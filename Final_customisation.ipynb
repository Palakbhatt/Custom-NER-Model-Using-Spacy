{
 "cells": [
  {
   "cell_type": "code",
   "execution_count": 1,
   "id": "a2490d04-5b83-414b-a989-7f39ca2eb48a",
   "metadata": {},
   "outputs": [
    {
     "name": "stderr",
     "output_type": "stream",
     "text": [
      "C:\\ProgramData\\Anaconda3\\lib\\site-packages\\requests\\__init__.py:102: RequestsDependencyWarning: urllib3 (1.26.9) or chardet (5.0.0)/charset_normalizer (2.0.4) doesn't match a supported version!\n",
      "  warnings.warn(\"urllib3 ({}) or chardet ({})/charset_normalizer ({}) doesn't match a supported \"\n"
     ]
    }
   ],
   "source": [
    "import spacy\n",
    "from spacy import displacy\n",
    "from spacy.tokens import DocBin\n",
    "from tqdm import tqdm"
   ]
  },
  {
   "cell_type": "code",
   "execution_count": 2,
   "id": "9d3f81ea-34da-46cc-a54d-9298bd043420",
   "metadata": {},
   "outputs": [],
   "source": [
    "nlp=spacy.load(\"en_core_web_lg\")"
   ]
  },
  {
   "cell_type": "code",
   "execution_count": 3,
   "id": "2a118afe-3740-4abe-b9f0-dac36b843d1d",
   "metadata": {},
   "outputs": [
    {
     "data": {
      "text/plain": [
       "['tok2vec', 'tagger', 'parser', 'attribute_ruler', 'lemmatizer', 'ner']"
      ]
     },
     "execution_count": 3,
     "metadata": {},
     "output_type": "execute_result"
    }
   ],
   "source": [
    "nlp.pipe_names"
   ]
  },
  {
   "cell_type": "code",
   "execution_count": 4,
   "id": "849e0e36-73ed-48a6-96a1-47c3a386e650",
   "metadata": {},
   "outputs": [],
   "source": [
    "sentence = \"Daniil Medvedev and Novak Djokovic have built an intriguing rivalry since the Australian Open decider, which the Serb won comprehensively.\"\n",
    "doc = nlp(sentence)"
   ]
  },
  {
   "cell_type": "code",
   "execution_count": 5,
   "id": "ba41fbb0-8199-4766-8551-368b376e544d",
   "metadata": {},
   "outputs": [
    {
     "data": {
      "text/html": [
       "<span class=\"tex2jax_ignore\"><div class=\"entities\" style=\"line-height: 2.5; direction: ltr\">\n",
       "<mark class=\"entity\" style=\"background: #aa9cfc; padding: 0.45em 0.6em; margin: 0 0.25em; line-height: 1; border-radius: 0.35em;\">\n",
       "    Daniil Medvedev\n",
       "    <span style=\"font-size: 0.8em; font-weight: bold; line-height: 1; border-radius: 0.35em; vertical-align: middle; margin-left: 0.5rem\">PERSON</span>\n",
       "</mark>\n",
       " and \n",
       "<mark class=\"entity\" style=\"background: #aa9cfc; padding: 0.45em 0.6em; margin: 0 0.25em; line-height: 1; border-radius: 0.35em;\">\n",
       "    Novak Djokovic\n",
       "    <span style=\"font-size: 0.8em; font-weight: bold; line-height: 1; border-radius: 0.35em; vertical-align: middle; margin-left: 0.5rem\">PERSON</span>\n",
       "</mark>\n",
       " have built an intriguing rivalry since the \n",
       "<mark class=\"entity\" style=\"background: #7aecec; padding: 0.45em 0.6em; margin: 0 0.25em; line-height: 1; border-radius: 0.35em;\">\n",
       "    Australian Open\n",
       "    <span style=\"font-size: 0.8em; font-weight: bold; line-height: 1; border-radius: 0.35em; vertical-align: middle; margin-left: 0.5rem\">ORG</span>\n",
       "</mark>\n",
       " decider, which the \n",
       "<mark class=\"entity\" style=\"background: #c887fb; padding: 0.45em 0.6em; margin: 0 0.25em; line-height: 1; border-radius: 0.35em;\">\n",
       "    Serb\n",
       "    <span style=\"font-size: 0.8em; font-weight: bold; line-height: 1; border-radius: 0.35em; vertical-align: middle; margin-left: 0.5rem\">NORP</span>\n",
       "</mark>\n",
       " won comprehensively.</div></span>"
      ],
      "text/plain": [
       "<IPython.core.display.HTML object>"
      ]
     },
     "metadata": {},
     "output_type": "display_data"
    }
   ],
   "source": [
    "displacy.render(doc, style=\"ent\", jupyter=True)"
   ]
  },
  {
   "cell_type": "code",
   "execution_count": 6,
   "id": "663bb62c-d8be-47dd-b0db-c26be6f29eb7",
   "metadata": {},
   "outputs": [
    {
     "data": {
      "text/plain": [
       "['CARDINAL',\n",
       " 'DATE',\n",
       " 'EVENT',\n",
       " 'FAC',\n",
       " 'GPE',\n",
       " 'LANGUAGE',\n",
       " 'LAW',\n",
       " 'LOC',\n",
       " 'MONEY',\n",
       " 'NORP',\n",
       " 'ORDINAL',\n",
       " 'ORG',\n",
       " 'PERCENT',\n",
       " 'PERSON',\n",
       " 'PRODUCT',\n",
       " 'QUANTITY',\n",
       " 'TIME',\n",
       " 'WORK_OF_ART']"
      ]
     },
     "execution_count": 6,
     "metadata": {},
     "output_type": "execute_result"
    }
   ],
   "source": [
    "nlp.pipe_labels['ner']"
   ]
  },
  {
   "cell_type": "code",
   "execution_count": 7,
   "id": "ecbc8be8-6709-4f9d-96a4-5cb942af9e6e",
   "metadata": {},
   "outputs": [
    {
     "name": "stdout",
     "output_type": "stream",
     "text": [
      "Daniil Medvedev | PERSON\n",
      "Novak Djokovic | PERSON\n",
      "Australian Open | ORG\n",
      "Serb | NORP\n"
     ]
    }
   ],
   "source": [
    "for ent in doc.ents:\n",
    "    print(ent.text, \"|\", ent.label_)"
   ]
  },
  {
   "cell_type": "code",
   "execution_count": 8,
   "id": "045a9b93-1478-4a17-8443-9c1fbd6b0ab9",
   "metadata": {},
   "outputs": [
    {
     "data": {
      "text/plain": [
       "'Nationalities or religious or political groups'"
      ]
     },
     "execution_count": 8,
     "metadata": {},
     "output_type": "execute_result"
    }
   ],
   "source": [
    "spacy.explain(\"NORP\")"
   ]
  },
  {
   "cell_type": "code",
   "execution_count": 9,
   "id": "10198bd2-1fa9-4689-816d-227b64f779af",
   "metadata": {},
   "outputs": [],
   "source": [
    "sentence = \"As a Full Stack Developer, you will develop applications in a very passionate environment being responsible for Front-end and Back-end development. You will perform development and day-to-day maintenance on large applications. You have multiple opportunities to work on cross-system single-page applications.\""
   ]
  },
  {
   "cell_type": "code",
   "execution_count": 10,
   "id": "5ea6641a-3f06-432d-8c99-9dcd3ead63b9",
   "metadata": {},
   "outputs": [
    {
     "name": "stderr",
     "output_type": "stream",
     "text": [
      "C:\\Users\\PALAK BHATT\\AppData\\Roaming\\Python\\Python39\\site-packages\\spacy\\displacy\\__init__.py:200: UserWarning: [W006] No entities to visualize found in Doc object. If this is surprising to you, make sure the Doc was processed using a model that supports named entity recognition, and check the `doc.ents` property manually if necessary.\n",
      "  warnings.warn(Warnings.W006)\n"
     ]
    },
    {
     "data": {
      "text/html": [
       "<span class=\"tex2jax_ignore\"><div class=\"entities\" style=\"line-height: 2.5; direction: ltr\">As a Full Stack Developer, you will develop applications in a very passionate environment being responsible for Front-end and Back-end development. You will perform development and day-to-day maintenance on large applications. You have multiple opportunities to work on cross-system single-page applications.</div></span>"
      ],
      "text/plain": [
       "<IPython.core.display.HTML object>"
      ]
     },
     "metadata": {},
     "output_type": "display_data"
    }
   ],
   "source": [
    "doc = nlp(sentence)\n",
    "displacy.render(doc, style=\"ent\", jupyter=True)"
   ]
  },
  {
   "cell_type": "markdown",
   "id": "ef87b779-58b4-4fae-b53d-fcc509f05e39",
   "metadata": {},
   "source": [
    "CREATING CUSTOM PIPELINE FOR JOB_ROLE"
   ]
  },
  {
   "cell_type": "markdown",
   "id": "1a26031c-7468-41f8-886e-0d5703c69e71",
   "metadata": {},
   "source": [
    "Steps to build the custom NER model for detecting the job role in job postings:\n",
    "\n",
    "1. Annotate the data to train the model.\n",
    "2. Convert the annotated data into the spaCy bin object.\n",
    "3. Generate the config file from the spaCy website.\n",
    "4. Train the model in the command line.\n",
    "5. Load and test the saved model."
   ]
  },
  {
   "cell_type": "code",
   "execution_count": 11,
   "id": "1cf0fb12-8389-479a-be31-a2eeeec1b106",
   "metadata": {},
   "outputs": [],
   "source": [
    "trainData=[(\"We are looking for a Full-stack Developer who is motivated to combine the art of design with the art of programming.\",{\"entities\":[(21,40,\"job_role\")]}), \n",
    "(\"As a Full Stack Developer, you will develop applications in a very passionate environment being responsible for Front-end and Back-end development.\",{\"entities\":[(5,25,\"job_role\")]}), \n",
    "(\"Ivy Mobility is looking for Full-stack Dot net Tech Lead who has the ability to work in a fast-paced environment, on multiple projects concurrently.\",{\"entities\":[(28,56,\"job_role\")]}),\n",
    "(\"Python Developer\",{\"entities\":[(0,16,\"job_role\")]}),\n",
    "(\"Previous experience working as a React Native Developer.\", {\"entities\":[(33,51,\"job_role\")]}),\n",
    "(\"Yellow Riddle is looking for a front-end Shopify Developer to join our growing team with our increasing volume of Shopify work.\",{\"entities\":[(31,58,\"job_role\")]}),\n",
    "(\"Job Title: Lead / Senior React Native Developer.\",{\"entities\":[(25,47,\"job_role\")]}),\n",
    "(\"Job Title: Salesforce Developer (LWC)\",{\"entities\":[(11,31,\"job_role\")]}),\n",
    "(\"Yours a highly-skilled market analyst with a proven ability to strategize the full lifecycle of product production from conception through release. \",{\"entities\":[(23,37,\"job_role\")]})]"
   ]
  },
  {
   "cell_type": "markdown",
   "id": "4e031ea4-6cf9-449c-aa30-76fb5f085040",
   "metadata": {},
   "source": [
    "CONVERT THE ANNOTATED DATA INTO THE SPACY BIN OBJECT"
   ]
  },
  {
   "cell_type": "code",
   "execution_count": 12,
   "id": "04eaf9cc-2bc5-47bf-b4b9-6a672d0e9ae3",
   "metadata": {},
   "outputs": [
    {
     "name": "stderr",
     "output_type": "stream",
     "text": [
      "100%|██████████| 9/9 [00:00<00:00, 700.20it/s]\n"
     ]
    }
   ],
   "source": [
    "nlp = spacy.blank(\"en\") # load a new spacy model\n",
    "db = DocBin() # create a DocBin object\n",
    "for text, annot in tqdm(trainData): # data in previous format\n",
    "    doc = nlp.make_doc(text) # create doc object from text\n",
    "    ents = []\n",
    "    for start, end, label in annot[\"entities\"]: # add character indexes\n",
    "        span = doc.char_span(start, end, label=label, alignment_mode=\"contract\")\n",
    "        if span is None:\n",
    "            print(\"Skipping entity\")\n",
    "        else:\n",
    "            ents.append(span)\n",
    "    try:\n",
    "        doc.ents = ents # label the text with the ents\n",
    "        db.add(doc)\n",
    "    except:\n",
    "        print(text, annot)\n",
    "db.to_disk(\"./train.spacy\") # save the docbin object"
   ]
  },
  {
   "cell_type": "markdown",
   "id": "9ed0c106-a3c5-4a4f-af90-2181d0766304",
   "metadata": {},
   "source": [
    "Generate the config file to train via Command line"
   ]
  },
  {
   "cell_type": "code",
   "execution_count": 13,
   "id": "b9564677-7094-4d9e-9d10-719e892772b9",
   "metadata": {},
   "outputs": [
    {
     "name": "stdout",
     "output_type": "stream",
     "text": [
      "[+] Auto-filled config with all values\n",
      "[+] Saved config\n",
      "config.cfg\n",
      "You can now add your data and train your pipeline:\n",
      "python -m spacy train config.cfg --paths.train ./train.spacy --paths.dev ./dev.spacy\n"
     ]
    },
    {
     "name": "stderr",
     "output_type": "stream",
     "text": [
      "C:\\ProgramData\\Anaconda3\\lib\\site-packages\\requests\\__init__.py:102: RequestsDependencyWarning: urllib3 (1.26.9) or chardet (5.0.0)/charset_normalizer (2.0.4) doesn't match a supported version!\n",
      "  warnings.warn(\"urllib3 ({}) or chardet ({})/charset_normalizer ({}) doesn't match a supported \"\n"
     ]
    }
   ],
   "source": [
    "!python -m spacy init fill-config base_config.cfg config.cfg"
   ]
  },
  {
   "cell_type": "code",
   "execution_count": 14,
   "id": "60bb0998-6733-4993-84c5-f023131afb82",
   "metadata": {},
   "outputs": [
    {
     "name": "stdout",
     "output_type": "stream",
     "text": [
      "[i] No output directory provided\n",
      "[i] Using CPU\n",
      "\u001b[1m\n",
      "=========================== Initializing pipeline ===========================\u001b[0m\n",
      "[+] Initialized pipeline\n",
      "\u001b[1m\n",
      "============================= Training pipeline =============================\u001b[0m\n",
      "[i] Pipeline: ['tok2vec', 'ner']\n",
      "[i] Initial learn rate: 0.001\n",
      "E    #       LOSS TOK2VEC  LOSS NER  ENTS_F  ENTS_P  ENTS_R  SCORE \n",
      "---  ------  ------------  --------  ------  ------  ------  ------\n"
     ]
    },
    {
     "name": "stderr",
     "output_type": "stream",
     "text": [
      "C:\\ProgramData\\Anaconda3\\lib\\site-packages\\requests\\__init__.py:102: RequestsDependencyWarning: urllib3 (1.26.9) or chardet (5.0.0)/charset_normalizer (2.0.4) doesn't match a supported version!\n",
      "  warnings.warn(\"urllib3 ({}) or chardet ({})/charset_normalizer ({}) doesn't match a supported \"\n",
      "[2022-09-08 11:40:59,352] [INFO] Set up nlp object from config\n",
      "[2022-09-08 11:40:59,360] [INFO] Pipeline: ['tok2vec', 'ner']\n",
      "[2022-09-08 11:40:59,363] [INFO] Created vocabulary\n",
      "[2022-09-08 11:40:59,366] [INFO] Finished initializing nlp object\n",
      "[2022-09-08 11:40:59,494] [INFO] Initialized pipeline components: ['tok2vec', 'ner']\n",
      "OMP: Error #15: Initializing libiomp5md.dll, but found libiomp5md.dll already initialized.\n",
      "OMP: Hint This means that multiple copies of the OpenMP runtime have been linked into the program. That is dangerous, since it can degrade performance or cause incorrect results. The best thing to do is to ensure that only a single OpenMP runtime is linked into the process, e.g. by avoiding static linking of the OpenMP runtime in any library. As an unsafe, unsupported, undocumented workaround you can set the environment variable KMP_DUPLICATE_LIB_OK=TRUE to allow the program to continue to execute, but that may cause crashes or silently produce incorrect results. For more information, please see http://www.intel.com/software/products/support/.\n"
     ]
    }
   ],
   "source": [
    "!python -m spacy train config.cfg --paths.train ./train.spacy --paths.dev ./dev.spacy"
   ]
  },
  {
   "cell_type": "code",
   "execution_count": 15,
   "id": "6b3e65de-ec51-4c79-aff7-c3cf921278bb",
   "metadata": {},
   "outputs": [
    {
     "name": "stdout",
     "output_type": "stream",
     "text": [
      "[i] Saving to output directory: output\n",
      "[i] Using CPU\n",
      "\u001b[1m\n",
      "=========================== Initializing pipeline ===========================\u001b[0m\n",
      "[+] Initialized pipeline\n",
      "\u001b[1m\n",
      "============================= Training pipeline =============================\u001b[0m\n",
      "[i] Pipeline: ['tok2vec', 'ner']\n",
      "[i] Initial learn rate: 0.001\n",
      "E    #       LOSS TOK2VEC  LOSS NER  ENTS_F  ENTS_P  ENTS_R  SCORE \n",
      "---  ------  ------------  --------  ------  ------  ------  ------\n"
     ]
    },
    {
     "name": "stderr",
     "output_type": "stream",
     "text": [
      "C:\\ProgramData\\Anaconda3\\lib\\site-packages\\requests\\__init__.py:102: RequestsDependencyWarning: urllib3 (1.26.9) or chardet (5.0.0)/charset_normalizer (2.0.4) doesn't match a supported version!\n",
      "  warnings.warn(\"urllib3 ({}) or chardet ({})/charset_normalizer ({}) doesn't match a supported \"\n",
      "[2022-09-08 11:41:09,430] [INFO] Set up nlp object from config\n",
      "[2022-09-08 11:41:09,439] [INFO] Pipeline: ['tok2vec', 'ner']\n",
      "[2022-09-08 11:41:09,442] [INFO] Created vocabulary\n",
      "[2022-09-08 11:41:09,443] [INFO] Finished initializing nlp object\n",
      "[2022-09-08 11:41:09,546] [INFO] Initialized pipeline components: ['tok2vec', 'ner']\n",
      "OMP: Error #15: Initializing libiomp5md.dll, but found libiomp5md.dll already initialized.\n",
      "OMP: Hint This means that multiple copies of the OpenMP runtime have been linked into the program. That is dangerous, since it can degrade performance or cause incorrect results. The best thing to do is to ensure that only a single OpenMP runtime is linked into the process, e.g. by avoiding static linking of the OpenMP runtime in any library. As an unsafe, unsupported, undocumented workaround you can set the environment variable KMP_DUPLICATE_LIB_OK=TRUE to allow the program to continue to execute, but that may cause crashes or silently produce incorrect results. For more information, please see http://www.intel.com/software/products/support/.\n"
     ]
    }
   ],
   "source": [
    "!python -m spacy train config.cfg --output ./output --paths.train ./train.spacy --paths.dev ./train.spacy"
   ]
  },
  {
   "cell_type": "markdown",
   "id": "aa15e6cd-9da0-430b-b9c9-67c3dbcc740b",
   "metadata": {},
   "source": [
    "In cmd cd Downloads\n",
    "\n",
    "python -m spacy init fill-config base_config.cfg config.cfg\n",
    "\n",
    "python -m spacy train config.cfg --paths.train ./train.spacy --paths.dev ./dev.spacy\n",
    "\n",
    "python -m spacy train config.cfg --output ./output --paths.train ./train.spacy --paths.dev ./train.spacy"
   ]
  },
  {
   "cell_type": "code",
   "execution_count": 17,
   "id": "7f35d896-0222-44c0-a917-36a5045794a8",
   "metadata": {},
   "outputs": [],
   "source": [
    "nlp = spacy.load(\"output/model-last/\")"
   ]
  },
  {
   "cell_type": "code",
   "execution_count": 18,
   "id": "17395034-c252-4eef-b5da-a974fd84894a",
   "metadata": {},
   "outputs": [
    {
     "data": {
      "text/html": [
       "<span class=\"tex2jax_ignore\"><div class=\"entities\" style=\"line-height: 2.5; direction: ltr\">We are looking for a \n",
       "<mark class=\"entity\" style=\"background: #ddd; padding: 0.45em 0.6em; margin: 0 0.25em; line-height: 1; border-radius: 0.35em;\">\n",
       "    Backend Developer\n",
       "    <span style=\"font-size: 0.8em; font-weight: bold; line-height: 1; border-radius: 0.35em; vertical-align: middle; margin-left: 0.5rem\">job_role</span>\n",
       "</mark>\n",
       " who has experience in designing, developing and implementing backend services using Python and Django.</div></span>"
      ],
      "text/plain": [
       "<IPython.core.display.HTML object>"
      ]
     },
     "metadata": {},
     "output_type": "display_data"
    }
   ],
   "source": [
    "sentence = \"We are looking for a Backend Developer who has experience in designing, developing and implementing backend services using Python and Django.\"\n",
    "\n",
    "doc = nlp(sentence)\n",
    "\n",
    "from spacy import displacy\n",
    "displacy.render(doc, style=\"ent\", jupyter=True) "
   ]
  },
  {
   "cell_type": "code",
   "execution_count": null,
   "id": "df4db482-5bae-44dd-b1ef-102942561ce7",
   "metadata": {},
   "outputs": [],
   "source": []
  }
 ],
 "metadata": {
  "kernelspec": {
   "display_name": "Python 3",
   "language": "python",
   "name": "python3"
  },
  "language_info": {
   "codemirror_mode": {
    "name": "ipython",
    "version": 3
   },
   "file_extension": ".py",
   "mimetype": "text/x-python",
   "name": "python",
   "nbconvert_exporter": "python",
   "pygments_lexer": "ipython3",
   "version": "3.9.12"
  }
 },
 "nbformat": 4,
 "nbformat_minor": 5
}
